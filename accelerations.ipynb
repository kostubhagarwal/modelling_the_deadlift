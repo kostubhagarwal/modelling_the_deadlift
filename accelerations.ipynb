{
 "cells": [
  {
   "cell_type": "code",
   "execution_count": 41,
   "metadata": {},
   "outputs": [],
   "source": [
    "import math\n",
    "import latexify"
   ]
  },
  {
   "cell_type": "markdown",
   "metadata": {},
   "source": [
    "### Initial Accelerations"
   ]
  },
  {
   "cell_type": "code",
   "execution_count": 42,
   "metadata": {},
   "outputs": [],
   "source": [
    "@latexify.with_latex\n",
    "\n",
    "def x_1():\n",
    "    return(0)"
   ]
  },
  {
   "cell_type": "code",
   "execution_count": 43,
   "metadata": {},
   "outputs": [],
   "source": [
    "@latexify.with_latex\n",
    "\n",
    "def y_1():\n",
    "    return(0)"
   ]
  },
  {
   "cell_type": "markdown",
   "metadata": {},
   "source": [
    "### Joint Accelerations"
   ]
  },
  {
   "cell_type": "code",
   "execution_count": 44,
   "metadata": {},
   "outputs": [],
   "source": [
    "#x = x_1+i\n",
    "@latexify.with_latex\n",
    "\n",
    "def x(x_i, L_i, Aw_i, w_i, theta):\n",
    "    return(x_i+L_i*((Aw_i)*math.sin(theta)+w_i**2*math.cos(theta)))"
   ]
  },
  {
   "cell_type": "code",
   "execution_count": 45,
   "metadata": {},
   "outputs": [],
   "source": [
    "#y = y_1+i\n",
    "@latexify.with_latex\n",
    "\n",
    "def y(y_i, L_i, Aw_i, w_i, theta):\n",
    "    return(y_i-L_i*((Aw_i)*math.cos(theta)-w_i**2*math.sin(theta)))"
   ]
  },
  {
   "cell_type": "markdown",
   "metadata": {},
   "source": [
    "### CG Accelerations"
   ]
  },
  {
   "cell_type": "code",
   "execution_count": 46,
   "metadata": {},
   "outputs": [],
   "source": [
    "@latexify.with_latex\n",
    "\n",
    "def x_c(x_i, p_i, L_i, Aw_i, w_i, theta):\n",
    "    return(x_i-(1-p_i)*L_i*((Aw_i)*math.sin(theta)+w_i**2*math.cos(theta)))"
   ]
  },
  {
   "cell_type": "code",
   "execution_count": 47,
   "metadata": {},
   "outputs": [],
   "source": [
    "@latexify.with_latex\n",
    "\n",
    "def y_c(y_i, p_i, L_i, Aw_i, w_i, theta):\n",
    "    return(y_i+(1-p_i)*L_i*((Aw_i)*math.cos(theta)-w_i**2*math.sin(theta)))"
   ]
  },
  {
   "cell_type": "code",
   "execution_count": 48,
   "metadata": {},
   "outputs": [],
   "source": [
    "@latexify.with_latex\n",
    "\n",
    "def x_c(x_i, p_i, L_i, Aw_i, w_i, theta):\n",
    "    return(x_i-p_i*L_i*((Aw_i)*math.sin(theta)+w_i**2*math.cos(theta)))"
   ]
  },
  {
   "cell_type": "code",
   "execution_count": 49,
   "metadata": {},
   "outputs": [],
   "source": [
    "@latexify.with_latex\n",
    "\n",
    "def y_c(y_i, p_i, L_i, Aw_i, w_i, theta):\n",
    "    return(y_i+p_i*L_i*((Aw_i)*math.cos(theta)-w_i**2*math.sin(theta)))"
   ]
  }
 ],
 "metadata": {
  "kernelspec": {
   "display_name": "Python 3.7.12 ('dl_cv_env')",
   "language": "python",
   "name": "python3"
  },
  "language_info": {
   "codemirror_mode": {
    "name": "ipython",
    "version": 3
   },
   "file_extension": ".py",
   "mimetype": "text/x-python",
   "name": "python",
   "nbconvert_exporter": "python",
   "pygments_lexer": "ipython3",
   "version": "3.7.12"
  },
  "orig_nbformat": 4,
  "vscode": {
   "interpreter": {
    "hash": "f548420b6b701e05fb0e173537841999b0e73955807106d7696feb99e4b945bc"
   }
  }
 },
 "nbformat": 4,
 "nbformat_minor": 2
}
