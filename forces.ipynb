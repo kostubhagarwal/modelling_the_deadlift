{
 "cells": [
  {
   "cell_type": "code",
   "execution_count": 6,
   "metadata": {},
   "outputs": [],
   "source": [
    "import math\n",
    "import latexify"
   ]
  },
  {
   "cell_type": "markdown",
   "metadata": {},
   "source": [
    "### Ankle to Knee, Knee to Hip"
   ]
  },
  {
   "cell_type": "code",
   "execution_count": 10,
   "metadata": {},
   "outputs": [
    {
     "data": {
      "text/latex": [
       "$$ \\displaystyle \\mathrm{Fx}(Fx_i, m_i, Ax_i) = Fx_i - m_i Ax_i $$"
      ],
      "text/plain": [
       "<latexify.frontend.LatexifiedFunction at 0x7fb81e4e2510>"
      ]
     },
     "execution_count": 10,
     "metadata": {},
     "output_type": "execute_result"
    }
   ],
   "source": [
    "@latexify.with_latex\n",
    "\n",
    "def Fx(Fx_i,m_i,Ax_i):\n",
    "    return(Fx_i - m_i*Ax_i)\n",
    "\n",
    "Fx"
   ]
  },
  {
   "cell_type": "code",
   "execution_count": 11,
   "metadata": {},
   "outputs": [
    {
     "data": {
      "text/latex": [
       "$$ \\displaystyle \\mathrm{Fy}(Fy_i, m_i, g, Ay_i) = Fy_i + m_i g + M_i Ay_i $$"
      ],
      "text/plain": [
       "<latexify.frontend.LatexifiedFunction at 0x7fb81e4e2c90>"
      ]
     },
     "execution_count": 11,
     "metadata": {},
     "output_type": "execute_result"
    }
   ],
   "source": [
    "@latexify.with_latex\n",
    "\n",
    "def Fy(Fy_i,m_i,g,Ay_i):\n",
    "    return(Fy_i + m_i*g + M_i*Ay_i)\n",
    "\n",
    "Fy"
   ]
  },
  {
   "cell_type": "markdown",
   "metadata": {},
   "source": [
    "### Hip to Torso"
   ]
  },
  {
   "cell_type": "code",
   "execution_count": 16,
   "metadata": {},
   "outputs": [
    {
     "data": {
      "text/latex": [
       "$$ \\displaystyle \\mathrm{Fx}(Fx_3, m_3, m_6, g, Ax3_c) = Fx_3 - \\left( m_3 + m_6 \\right) Ax3_c $$"
      ],
      "text/plain": [
       "<latexify.frontend.LatexifiedFunction at 0x7fb81e3a6590>"
      ]
     },
     "execution_count": 16,
     "metadata": {},
     "output_type": "execute_result"
    }
   ],
   "source": [
    "@latexify.with_latex\n",
    "\n",
    "def Fx(Fx_3,m_3, m_6,g,Ax3_c):\n",
    "    return(Fx_3 - (m_3+m_6)*Ax3_c)\n",
    "\n",
    "Fx"
   ]
  },
  {
   "cell_type": "code",
   "execution_count": 14,
   "metadata": {},
   "outputs": [
    {
     "data": {
      "text/latex": [
       "$$ \\displaystyle \\mathrm{Fy}(Fy_4, m_3, m_6, g, Ay3_c) = Fy_4 - \\left( m_3 + m_6 \\right) Ay3_c $$"
      ],
      "text/plain": [
       "<latexify.frontend.LatexifiedFunction at 0x7fb81e551810>"
      ]
     },
     "execution_count": 14,
     "metadata": {},
     "output_type": "execute_result"
    }
   ],
   "source": [
    "@latexify.with_latex\n",
    "\n",
    "def Fy(Fy_4,m_3,m_6,g,Ay3_c):\n",
    "    return(Fy_4 + (m_3+m_6)*Ay3_c)\n",
    "\n",
    "Fy"
   ]
  },
  {
   "cell_type": "markdown",
   "metadata": {},
   "source": [
    "### Torso to Shoulder"
   ]
  },
  {
   "cell_type": "code",
   "execution_count": 18,
   "metadata": {},
   "outputs": [
    {
     "data": {
      "text/latex": [
       "$$ \\displaystyle \\mathrm{Fx_4}(Fx_5) = Fx_5 $$"
      ],
      "text/plain": [
       "<latexify.frontend.LatexifiedFunction at 0x7fb81e9b1210>"
      ]
     },
     "execution_count": 18,
     "metadata": {},
     "output_type": "execute_result"
    }
   ],
   "source": [
    "@latexify.with_latex\n",
    "\n",
    "def Fx_4(Fx_5):\n",
    "    return(Fx_5)\n",
    "\n",
    "Fx_4"
   ]
  },
  {
   "cell_type": "code",
   "execution_count": 17,
   "metadata": {},
   "outputs": [
    {
     "data": {
      "text/latex": [
       "$$ \\displaystyle \\mathrm{Fy_4}(Fy_5) = Fy_5 $$"
      ],
      "text/plain": [
       "<latexify.frontend.LatexifiedFunction at 0x7fb81e53f7d0>"
      ]
     },
     "execution_count": 17,
     "metadata": {},
     "output_type": "execute_result"
    }
   ],
   "source": [
    "@latexify.with_latex\n",
    "\n",
    "def Fy_4(Fy_5):\n",
    "    return(Fy_5)\n",
    "\n",
    "Fy_4"
   ]
  },
  {
   "cell_type": "markdown",
   "metadata": {},
   "source": [
    "### Arm to Bar"
   ]
  },
  {
   "cell_type": "code",
   "execution_count": 21,
   "metadata": {},
   "outputs": [
    {
     "data": {
      "text/latex": [
       "$$ \\displaystyle \\mathrm{Fx}(Fx_6, m_5, Ax5_c) = Fx_6 - m_5 Ax5_c $$"
      ],
      "text/plain": [
       "<latexify.frontend.LatexifiedFunction at 0x7fb81e4d3790>"
      ]
     },
     "execution_count": 21,
     "metadata": {},
     "output_type": "execute_result"
    }
   ],
   "source": [
    "@latexify.with_latex\n",
    "\n",
    "def Fx(Fx_6,m_5, Ax5_c):\n",
    "    return(Fx_6 - m_5*Ax5_c)\n",
    "\n",
    "Fx"
   ]
  },
  {
   "cell_type": "code",
   "execution_count": 23,
   "metadata": {},
   "outputs": [
    {
     "data": {
      "text/latex": [
       "$$ \\displaystyle \\mathrm{Fy}(Fy_6, m_5, Ay5_c) = Fy_6 + m_5 Ay5_c $$"
      ],
      "text/plain": [
       "<latexify.frontend.LatexifiedFunction at 0x7fb81e4e2210>"
      ]
     },
     "execution_count": 23,
     "metadata": {},
     "output_type": "execute_result"
    }
   ],
   "source": [
    "@latexify.with_latex\n",
    "\n",
    "def Fy(Fy_6,m_5,Ay5_c):\n",
    "    return(Fy_6 + m_5*Ay5_c)\n",
    "\n",
    "Fy"
   ]
  },
  {
   "cell_type": "markdown",
   "metadata": {},
   "source": [
    "### Bar"
   ]
  },
  {
   "cell_type": "code",
   "execution_count": 25,
   "metadata": {},
   "outputs": [
    {
     "data": {
      "text/latex": [
       "$$ \\displaystyle \\mathrm{Fx}(m_b, Ax_b) = -m_b Ax_b $$"
      ],
      "text/plain": [
       "<latexify.frontend.LatexifiedFunction at 0x7fb81e551950>"
      ]
     },
     "execution_count": 25,
     "metadata": {},
     "output_type": "execute_result"
    }
   ],
   "source": [
    "@latexify.with_latex\n",
    "\n",
    "def Fx(m_b, Ax_b):\n",
    "    return(-m_b*Ax_b)\n",
    "\n",
    "Fx"
   ]
  },
  {
   "cell_type": "code",
   "execution_count": 26,
   "metadata": {},
   "outputs": [
    {
     "data": {
      "text/latex": [
       "$$ \\displaystyle \\mathrm{Fy}(Fy_b, m_b, g, Ay_b) = m_b Ay_b - m_b g $$"
      ],
      "text/plain": [
       "<latexify.frontend.LatexifiedFunction at 0x7fb81e3a6cd0>"
      ]
     },
     "execution_count": 26,
     "metadata": {},
     "output_type": "execute_result"
    }
   ],
   "source": [
    "@latexify.with_latex\n",
    "\n",
    "def Fy(Fy_b,m_b, g,Ay_b):\n",
    "    return(m_b*Ay_b-m_b*g)\n",
    "\n",
    "Fy"
   ]
  }
 ],
 "metadata": {
  "kernelspec": {
   "display_name": "Python 3.7.12 ('dl_cv_env')",
   "language": "python",
   "name": "python3"
  },
  "language_info": {
   "codemirror_mode": {
    "name": "ipython",
    "version": 3
   },
   "file_extension": ".py",
   "mimetype": "text/x-python",
   "name": "python",
   "nbconvert_exporter": "python",
   "pygments_lexer": "ipython3",
   "version": "3.7.12"
  },
  "orig_nbformat": 4,
  "vscode": {
   "interpreter": {
    "hash": "f548420b6b701e05fb0e173537841999b0e73955807106d7696feb99e4b945bc"
   }
  }
 },
 "nbformat": 4,
 "nbformat_minor": 2
}
