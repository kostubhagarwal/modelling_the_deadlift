{
 "cells": [
  {
   "cell_type": "code",
   "execution_count": 28,
   "metadata": {},
   "outputs": [],
   "source": [
    "import math\n",
    "import latexify"
   ]
  },
  {
   "cell_type": "markdown",
   "metadata": {},
   "source": [
    "### Ankle to Knee, Knee to Hip"
   ]
  },
  {
   "cell_type": "code",
   "execution_count": 29,
   "metadata": {},
   "outputs": [],
   "source": [
    "@latexify.with_latex\n",
    "\n",
    "def Fx(Fx_i,m_i,Ax_i):\n",
    "    return(Fx_i - m_i*Ax_i)"
   ]
  },
  {
   "cell_type": "code",
   "execution_count": 30,
   "metadata": {},
   "outputs": [],
   "source": [
    "@latexify.with_latex\n",
    "\n",
    "def Fy(Fy_i,m_i,g,Ay_i):\n",
    "    return(Fy_i + m_i*g + m_i*Ay_i)"
   ]
  },
  {
   "cell_type": "markdown",
   "metadata": {},
   "source": [
    "### Hip to Torso"
   ]
  },
  {
   "cell_type": "code",
   "execution_count": 31,
   "metadata": {},
   "outputs": [],
   "source": [
    "@latexify.with_latex\n",
    "\n",
    "def Fx(Fx_3,m_3, m_6,g,Ax3_c):\n",
    "    return(Fx_3 - (m_3+m_6)*Ax3_c)"
   ]
  },
  {
   "cell_type": "code",
   "execution_count": 32,
   "metadata": {},
   "outputs": [],
   "source": [
    "@latexify.with_latex\n",
    "\n",
    "def Fy(Fy_4,m_3,m_6,g,Ay3_c):\n",
    "    return(Fy_4 + (m_3+m_6)*Ay3_c)"
   ]
  },
  {
   "cell_type": "markdown",
   "metadata": {},
   "source": [
    "### Torso to Shoulder"
   ]
  },
  {
   "cell_type": "code",
   "execution_count": 33,
   "metadata": {},
   "outputs": [],
   "source": [
    "@latexify.with_latex\n",
    "\n",
    "def Fx_4(Fx_5):\n",
    "    return(Fx_5)"
   ]
  },
  {
   "cell_type": "code",
   "execution_count": 34,
   "metadata": {},
   "outputs": [
    {
     "data": {
      "text/latex": [
       "$$ \\displaystyle \\mathrm{Fy_4}(Fy_5) = Fy_5 $$"
      ],
      "text/plain": [
       "<latexify.frontend.LatexifiedFunction at 0x7fb81e38aa90>"
      ]
     },
     "execution_count": 34,
     "metadata": {},
     "output_type": "execute_result"
    }
   ],
   "source": [
    "@latexify.with_latex\n",
    "\n",
    "def Fy_4(Fy_5):\n",
    "    return(Fy_5)\n",
    "\n",
    "Fy_4"
   ]
  },
  {
   "cell_type": "markdown",
   "metadata": {},
   "source": [
    "### Arm to Bar"
   ]
  },
  {
   "cell_type": "code",
   "execution_count": 35,
   "metadata": {},
   "outputs": [],
   "source": [
    "@latexify.with_latex\n",
    "\n",
    "def Fx(Fx_6,m_5, Ax5_c):\n",
    "    return(Fx_6 - m_5*Ax5_c)"
   ]
  },
  {
   "cell_type": "code",
   "execution_count": 36,
   "metadata": {},
   "outputs": [],
   "source": [
    "@latexify.with_latex\n",
    "\n",
    "def Fy(Fy_6,m_5,Ay5_c):\n",
    "    return(Fy_6 + m_5*Ay5_c)"
   ]
  },
  {
   "cell_type": "markdown",
   "metadata": {},
   "source": [
    "### Bar"
   ]
  },
  {
   "cell_type": "code",
   "execution_count": 37,
   "metadata": {},
   "outputs": [],
   "source": [
    "@latexify.with_latex\n",
    "\n",
    "def Fx(m_b, Ax_b):\n",
    "    return(-m_b*Ax_b)"
   ]
  },
  {
   "cell_type": "code",
   "execution_count": 38,
   "metadata": {},
   "outputs": [],
   "source": [
    "@latexify.with_latex\n",
    "\n",
    "def Fy(Fy_b,m_b, g,Ay_b):\n",
    "    return(m_b*Ay_b-m_b*g)"
   ]
  }
 ],
 "metadata": {
  "kernelspec": {
   "display_name": "Python 3.7.12 ('dl_cv_env')",
   "language": "python",
   "name": "python3"
  },
  "language_info": {
   "codemirror_mode": {
    "name": "ipython",
    "version": 3
   },
   "file_extension": ".py",
   "mimetype": "text/x-python",
   "name": "python",
   "nbconvert_exporter": "python",
   "pygments_lexer": "ipython3",
   "version": "3.7.12"
  },
  "orig_nbformat": 4,
  "vscode": {
   "interpreter": {
    "hash": "f548420b6b701e05fb0e173537841999b0e73955807106d7696feb99e4b945bc"
   }
  }
 },
 "nbformat": 4,
 "nbformat_minor": 2
}
