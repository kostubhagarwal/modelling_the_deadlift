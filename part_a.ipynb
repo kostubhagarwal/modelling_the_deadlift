{
 "cells": [
  {
   "cell_type": "code",
   "execution_count": 5,
   "metadata": {},
   "outputs": [],
   "source": [
    "import math\n",
    "import latexify"
   ]
  },
  {
   "cell_type": "markdown",
   "metadata": {},
   "source": [
    "#### Ankle to Knee"
   ]
  },
  {
   "cell_type": "code",
   "execution_count": 55,
   "metadata": {},
   "outputs": [
    {
     "data": {
      "text/latex": [
       "$$ \\displaystyle \\mathrm{Fy_1}(Fy_2, M_1, g, ay_1) = Fy_2 + M_1 g + M_1 Ay_1 $$"
      ],
      "text/plain": [
       "<latexify.frontend.LatexifiedFunction at 0x7fa8905dadd0>"
      ]
     },
     "execution_count": 55,
     "metadata": {},
     "output_type": "execute_result"
    }
   ],
   "source": [
    "@latexify.with_latex\n",
    "\n",
    "def Fy_1(Fy_2,M_1,g,Ay_1):\n",
    "    return(Fy_2 + M_1*g + M_1*Ay_1)\n",
    "\n",
    "Fy_1"
   ]
  },
  {
   "cell_type": "code",
   "execution_count": 61,
   "metadata": {},
   "outputs": [
    {
     "data": {
      "text/latex": [
       "$$ \\displaystyle \\mathrm{Fx_1}(Fx_2, M_1, Ax_1) = Fx_2 - M_1 Ax_1 $$"
      ],
      "text/plain": [
       "<latexify.frontend.LatexifiedFunction at 0x7fa89073ed50>"
      ]
     },
     "execution_count": 61,
     "metadata": {},
     "output_type": "execute_result"
    }
   ],
   "source": [
    "@latexify.with_latex\n",
    "\n",
    "def Fx_1(Fx_2,M_1,Ax_1):\n",
    "    return(Fx_2 - M_1*Ax_1)\n",
    "\n",
    "Fx_1"
   ]
  },
  {
   "cell_type": "markdown",
   "metadata": {},
   "source": [
    "### Knee to Hip"
   ]
  },
  {
   "cell_type": "code",
   "execution_count": 62,
   "metadata": {},
   "outputs": [
    {
     "data": {
      "text/latex": [
       "$$ \\displaystyle \\mathrm{Fy_2}(Fy_3, M_2, g, Ay_2) = Fy_3 + M_2 g + M_2 Ay_2 $$"
      ],
      "text/plain": [
       "<latexify.frontend.LatexifiedFunction at 0x7fa890339310>"
      ]
     },
     "execution_count": 62,
     "metadata": {},
     "output_type": "execute_result"
    }
   ],
   "source": [
    "@latexify.with_latex\n",
    "\n",
    "def Fy_2(Fy_3,M_2,g,Ay_2):\n",
    "    return(Fy_3 + M_2*g + M_2*Ay_2)\n",
    "\n",
    "Fy_2"
   ]
  },
  {
   "cell_type": "code",
   "execution_count": 63,
   "metadata": {},
   "outputs": [
    {
     "data": {
      "text/latex": [
       "$$ \\displaystyle \\mathrm{Fx_2}(Fx_3, M_2, Ax_2) = Fx_3 - M_2 Ax_2 $$"
      ],
      "text/plain": [
       "<latexify.frontend.LatexifiedFunction at 0x7fa8907639d0>"
      ]
     },
     "execution_count": 63,
     "metadata": {},
     "output_type": "execute_result"
    }
   ],
   "source": [
    "@latexify.with_latex\n",
    "\n",
    "def Fx_2(Fx_3,M_2,Ax_2):\n",
    "    return(Fx_3 - M_2*Ax_2)\n",
    "\n",
    "Fx_2"
   ]
  },
  {
   "cell_type": "markdown",
   "metadata": {},
   "source": [
    "### Hip to Torso"
   ]
  },
  {
   "cell_type": "code",
   "execution_count": 65,
   "metadata": {},
   "outputs": [
    {
     "data": {
      "text/latex": [
       "$$ \\displaystyle \\mathrm{Fy_3}(Fy_4, M_3, g, Ay_3) = Fy_3 + M_3 g + M_3 Ay_3 $$"
      ],
      "text/plain": [
       "<latexify.frontend.LatexifiedFunction at 0x7fa890d84950>"
      ]
     },
     "execution_count": 65,
     "metadata": {},
     "output_type": "execute_result"
    }
   ],
   "source": [
    "@latexify.with_latex\n",
    "\n",
    "def Fy_3(Fy_4,M_3,g,Ay_3):\n",
    "    return(Fy_3 + M_3*g + M_3*Ay_3)\n",
    "\n",
    "Fy_3"
   ]
  },
  {
   "cell_type": "code",
   "execution_count": 66,
   "metadata": {},
   "outputs": [
    {
     "data": {
      "text/latex": [
       "$$ \\displaystyle \\mathrm{Fx_3}(Fx_4, M_3, Ax_3) = Fx_3 - M_3 Ax_3 $$"
      ],
      "text/plain": [
       "<latexify.frontend.LatexifiedFunction at 0x7fa890d84cd0>"
      ]
     },
     "execution_count": 66,
     "metadata": {},
     "output_type": "execute_result"
    }
   ],
   "source": [
    "@latexify.with_latex\n",
    "\n",
    "def Fx_3(Fx_4,M_3,Ax_3):\n",
    "    return(Fx_3 - M_3*Ax_3)\n",
    "\n",
    "Fx_3"
   ]
  }
 ],
 "metadata": {
  "kernelspec": {
   "display_name": "Python 3.7.12 ('dl_cv_env')",
   "language": "python",
   "name": "python3"
  },
  "language_info": {
   "codemirror_mode": {
    "name": "ipython",
    "version": 3
   },
   "file_extension": ".py",
   "mimetype": "text/x-python",
   "name": "python",
   "nbconvert_exporter": "python",
   "pygments_lexer": "ipython3",
   "version": "3.7.12"
  },
  "orig_nbformat": 4,
  "vscode": {
   "interpreter": {
    "hash": "f548420b6b701e05fb0e173537841999b0e73955807106d7696feb99e4b945bc"
   }
  }
 },
 "nbformat": 4,
 "nbformat_minor": 2
}
